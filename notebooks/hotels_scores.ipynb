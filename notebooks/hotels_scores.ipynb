{
 "cells": [
  {
   "attachments": {},
   "cell_type": "markdown",
   "metadata": {},
   "source": [
    "### Import libs"
   ]
  },
  {
   "cell_type": "code",
   "execution_count": null,
   "metadata": {},
   "outputs": [],
   "source": [
    "import numpy as np\n",
    "import pandas as pd\n",
    "import matplotlib.pyplot as plt\n",
    "import json\n",
    "from pathlib import Path"
   ]
  },
  {
   "attachments": {},
   "cell_type": "markdown",
   "metadata": {},
   "source": [
    "### Load hotels from file"
   ]
  },
  {
   "cell_type": "code",
   "execution_count": null,
   "metadata": {},
   "outputs": [],
   "source": [
    "hotels_path = Path(\"../data/places.json\")\n",
    "amenities_path = Path(\"../data/place_amenities.json\")\n",
    "with hotels_path.open(\"r\") as file:\n",
    "    hotels = json.load(file)\n",
    "\n",
    "with amenities_path.open(\"r\") as file:\n",
    "    place_amenities = json.load(file)\n",
    "\n",
    "group_weights: dict = {\n",
    "    key: 1 / len(place_amenities)\n",
    "    for key in place_amenities.keys()\n",
    "}\n",
    "\n",
    "# np.concatenate(list(amenities.values())) принимает список значений словаря amenities и объединяет их в один массив кодов удобств.\n",
    "all_amenities: np.ndarray = np.concatenate(\n",
    "    list(place_amenities.values())\n",
    ")\n",
    "# Повторение названия каждой группы удобств по количеству удобств в каждой группе\n",
    "all_groups: np.ndarray = np.repeat(\n",
    "    list(place_amenities.keys()),\n",
    "    [len(v) for v in place_amenities.values()],\n",
    ")\n",
    "# np.repeat повторяет каждый вес группы удобств соответствующее количество раз, определяемое длиной соответствующего списка удобств.\n",
    "# если у есть список весов групп удобств [0.2, 0.5, 0.8], а соответствующие списки удобств имеют длины [3, 2, 4],\n",
    "# то np.repeat создаст массив [0.2, 0.2, 0.2, 0.5, 0.5, 0.8, 0.8, 0.8, 0.8], чтобы каждая группа имела свой вес.\n",
    "all_weights: np.ndarray = np.repeat(\n",
    "    [group_weights[key] for key in place_amenities.keys()],\n",
    "    [len(v) for v in place_amenities.values()],\n",
    ")\n",
    "\n",
    "amenity_pd_data: pd.DataFrame = pd.DataFrame(\n",
    "    {\n",
    "        \"amenities_keys\": all_amenities,\n",
    "        \"amenities_groups\": all_groups,\n",
    "        \"amenities_weights\": all_weights,\n",
    "    }\n",
    ")\n",
    "# поиск пересечний удобств между заданными важными удобствами и всеми удобствами отеля\n",
    "amenities_set = set(amenity_pd_data[\"amenities_keys\"])\n",
    "\n",
    "\n",
    "hotels_pd = pd.DataFrame(hotels)\n",
    "print(len(hotels))\n",
    "scores = np.zeros((len(hotels), 4), dtype=np.float32)"
   ]
  },
  {
   "cell_type": "code",
   "execution_count": null,
   "metadata": {},
   "outputs": [],
   "source": [
    "def count_place_amenities_weight(\n",
    "    amenities_set, amenity_pd_data, hotel_amenety_list\n",
    ") -> float:\n",
    "    intersecting_amenities = amenities_set & set(hotel_amenety_list)\n",
    "\n",
    "    # оставляем только те данные, которые соответствуют пересечению из приоритетной группы удобств и удобств отеля\n",
    "    filtered_data: pd.DataFrame = amenity_pd_data[\n",
    "        amenity_pd_data[\"amenities_keys\"].isin(intersecting_amenities)\n",
    "    ]\n",
    "    # уникальные группы, которые пересеклись\n",
    "    unique_groups: pd.DataFrame = filtered_data.drop_duplicates(\n",
    "        subset=\"amenities_groups\", keep=False\n",
    "    )\n",
    "    total_weight: float = unique_groups[\"amenities_weights\"].sum()\n",
    "\n",
    "    return total_weight"
   ]
  },
  {
   "cell_type": "code",
   "execution_count": null,
   "metadata": {},
   "outputs": [],
   "source": [
    "count_last_reviews = hotels_pd[\"count_last_reviews\"]\n",
    "rating = hotels_pd[\"rating\"]\n",
    "stars = hotels_pd[\"stars\"]\n",
    "scores[:, 0] = count_last_reviews\n",
    "scores[:, 1] = rating\n",
    "scores[:, 2] = stars\n",
    "for i, hotel in enumerate(hotels):\n",
    "    amenity_codes = pd.json_normalize(hotel, \"amenity\")\n",
    "    amenity_weight = 0.0 if amenity_codes.empty else count_place_amenities_weight(\n",
    "            amenities_set, amenity_pd_data, amenity_codes[\"code\"])\n",
    "    scores[i, 3] = amenity_weight\n",
    "scores[np.isnan(scores)] = 0\n",
    "scores_max = np.max(scores, axis=0)/10\n",
    "scores /= scores_max"
   ]
  },
  {
   "attachments": {},
   "cell_type": "markdown",
   "metadata": {},
   "source": [
    "#### Set weights for count_last_reviews, rating, stars, amenity "
   ]
  },
  {
   "cell_type": "code",
   "execution_count": null,
   "metadata": {},
   "outputs": [],
   "source": [
    "# вес каждого параметра можно менять, желательно, чтобы веса в сумме давали единицу\n",
    "last_reviews_weight = 0.25 # вес отзывов за последний год\n",
    "rating_weight = 0.25  # вес рейтинга отеля\n",
    "stars_weight = 0.25  # вес звёздности отеля\n",
    "amenity_weight = 0.25  # вес удобств отеля\n",
    "weights = np.array((last_reviews_weight, rating_weight, stars_weight, amenity_weight), dtype=np.float32)\n",
    "weights_scores = weights*scores\n",
    "hotels_scores = np.sum(weights_scores, axis=1)"
   ]
  },
  {
   "attachments": {},
   "cell_type": "markdown",
   "metadata": {},
   "source": [
    "### Hotels scores histogram"
   ]
  },
  {
   "cell_type": "code",
   "execution_count": null,
   "metadata": {},
   "outputs": [],
   "source": [
    "_, axes = plt.subplots()\n",
    "axes.hist(hotels_scores, bins=30, density=True)\n",
    "axes.set_xlabel(\"score\")\n",
    "axes.set_ylabel(\"prob\")\n",
    "axes.grid(True)\n"
   ]
  },
  {
   "attachments": {},
   "cell_type": "markdown",
   "metadata": {},
   "source": [
    "##### Return sorted places by hotel_scores without price "
   ]
  },
  {
   "cell_type": "code",
   "execution_count": null,
   "metadata": {},
   "outputs": [],
   "source": [
    "hotels_pd_with_scores = hotels_pd.assign(hotel_score=hotels_scores)\n",
    "hotels_pd_with_scores = hotels_pd_with_scores.sort_values(by=['hotel_score'], ascending=False)\n",
    "hotels_pd_with_scores[[\"hotel_score\", \"price\", \"count_last_reviews\", \"rating\", \"stars\"]]\n"
   ]
  },
  {
   "cell_type": "code",
   "execution_count": null,
   "metadata": {},
   "outputs": [],
   "source": [
    "hotels_pd_with_scores.plot.hist(column=\"hotel_score\", grid=True, bins=np.arange(0, 10, 10/30))"
   ]
  },
  {
   "attachments": {},
   "cell_type": "markdown",
   "metadata": {},
   "source": [
    "#### Division of places into subgroups according to the score"
   ]
  },
  {
   "cell_type": "code",
   "execution_count": null,
   "metadata": {},
   "outputs": [],
   "source": [
    "# границы интервалов для каждой подгруппы по 'scores'\n",
    "score_bins = [0.0, 2, 5, 7, 10]\n",
    "# создать новый столбец 'score_group', разделив значения по интервалам\n",
    "hotels_pd_with_scores['score_group'] = pd.cut(hotels_pd_with_scores['hotel_score'], bins=score_bins, include_lowest=True)\n"
   ]
  },
  {
   "cell_type": "code",
   "execution_count": null,
   "metadata": {},
   "outputs": [],
   "source": [
    "price_weight = 0.25 # какой вклад в процентном соотношении вносит прайс отеля в скор, чем выше цифра - тем больше влияние\n",
    "hotels_pd_with_scores_and_price = hotels_pd_with_scores.copy()\n",
    "# Группировка средств размещения по score_group\n",
    "grouped_hotels = hotels_pd_with_scores_and_price.groupby('score_group')\n",
    "_, axes = plt.subplots(1)\n",
    "\n",
    "# Пройтись по каждой группе и изменить скор в зависимости от прайса\n",
    "for group_name, group_data in grouped_hotels:\n",
    "    indexes = group_data.index\n",
    "    # Получить медианное значение и стандартное отклонение прайса отеля в группе.\n",
    "    # std https://www.nlm.nih.gov/nichsr/stats_tutorial/section2/mod8_sd.html#:~:text=A%20standard%20deviation%20(or%20%CF%83,data%20are%20more%20spread%20out.\n",
    "    median_price, std_price = group_data['price'].median(), group_data['price'].std()\n",
    "    min_price, max_price = group_data['price'].min(), group_data['price'].max()\n",
    "    # print(group_name, min_price, max_price, median_price, std_price)\n",
    "    price_score = group_data['price']\n",
    "    # нормализация прайса отеля в группе с использованием стандартного отклонения.\n",
    "    price_score = (group_data['price'] - median_price)/(std_price) #mean std norm\n",
    "    # Sigmoid https://en.wikipedia.org/wiki/Sigmoid_function\n",
    "    # сигмоидальная нормализация для преобразования нормализованного прайса в диапазон от 0 до 10\n",
    "    price_score = (1 - 1 / (1 + np.exp(-1*price_score)))*10 # sigmoid norm\n",
    "    axes.hist(price_score, bins=30, label=f\"score group {group_name}\", alpha=0.3)\n",
    "\n",
    "    # общий скор для группы, учитывая вклад прайса\n",
    "    total_group_score = group_data['hotel_score'] * (1 - price_weight) + price_score * price_weight\n",
    "    hotels_pd_with_scores_and_price.loc[group_data.index, 'hotel_score']  = total_group_score\n",
    "axes.grid(True)\n",
    "axes.legend()\n",
    "axes.set_title(\"hist price scores by groups\")\n",
    "hotels_pd_with_scores_and_price.plot.hist(column=\"hotel_score\", grid=True, bins=np.arange(0, 10, 10/30))\n",
    "pd.set_option('display.max_rows', None)\n",
    "sort_hotels_pd_with_scores_and_price = hotels_pd_with_scores_and_price.sort_values(by=['hotel_score'], ascending=False)\n",
    "\n",
    "sort_hotels_pd_with_scores_and_price[[\"hotel_score\", \"price\", \"score_group\", \"count_last_reviews\", \"rating\", \"stars\"]]"
   ]
  }
 ],
 "metadata": {
  "kernelspec": {
   "display_name": "Python 3",
   "language": "python",
   "name": "python3"
  },
  "language_info": {
   "codemirror_mode": {
    "name": "ipython",
    "version": 3
   },
   "file_extension": ".py",
   "mimetype": "text/x-python",
   "name": "python",
   "nbconvert_exporter": "python",
   "pygments_lexer": "ipython3",
   "version": "3.10.4"
  },
  "orig_nbformat": 4
 },
 "nbformat": 4,
 "nbformat_minor": 2
}
